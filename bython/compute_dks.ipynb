{
 "cells": [
  {
   "cell_type": "code",
   "execution_count": 6,
   "id": "717584db-ebc8-4b27-bb30-10d114c22f87",
   "metadata": {},
   "outputs": [],
   "source": [
    "# Tres importante! Use venv_reliability to run les codes!\n",
    "import numpy as np\n",
    "import pandas as pd"
   ]
  },
  {
   "cell_type": "code",
   "execution_count": 8,
   "id": "e1c0b945-5a8f-417f-b18a-d661136d9bc2",
   "metadata": {},
   "outputs": [],
   "source": [
    "data_fname = \"../../common_conditions_breed_data.csv\"\n",
    "data = pd.read_csv(data_fname)"
   ]
  },
  {
   "cell_type": "code",
   "execution_count": 33,
   "id": "37644878-b54f-465c-8a04-a463fb49848c",
   "metadata": {},
   "outputs": [],
   "source": [
    "# Subpopulations\n",
    "beef = data[data[\"prod_type\"]==\"Beef\"]\n",
    "dairy = data[data[\"prod_type\"]==\"Dairy\"]\n",
    "died_farm = data[data[\"place_of_death\"]==\"Died on Farm\"]\n",
    "died_abattoir = data[data[\"place_of_death\"]==\"Abattoir\"]\n",
    "male = data[data[\"Sex\"]==\"M\"]\n",
    "female = data[data[\"Sex\"]==\"F\"]\n",
    "bull = data[data[\"Sex\"]==\"B\"]"
   ]
  },
  {
   "cell_type": "code",
   "execution_count": 51,
   "id": "f80ff798-ed5b-45ff-9c66-b0487cec1b1f",
   "metadata": {},
   "outputs": [],
   "source": [
    "# Estimate CDF \n",
    "def cdf(some_data):\n",
    "    hist_bins = np.linspace(0, 4000, 1000)\n",
    "    # Estimation of histogram (approx. of pdf)\n",
    "    hist, _ = np.histogram(some_data[\"days_alive\"], bins=hist_bins, density=True)\n",
    "    dx = hist_bins[1] - hist_bins[0]\n",
    "    cdf_data = np.cumsum(hist)*dx\n",
    "    return cdf_data, hist_bins\n",
    "\n",
    "def dist_kolmogorov_smirnov_prcnt(data1, data2):\n",
    "    cdf1, _ = cdf(data1)\n",
    "    cdf2, _ = cdf(data2)    \n",
    "    return 100*np.amax(np.abs(cdf1 - cdf2))\n",
    "    "
   ]
  },
  {
   "cell_type": "code",
   "execution_count": 52,
   "id": "365c2441-f160-4034-9dec-5ca6a59d0545",
   "metadata": {},
   "outputs": [
    {
     "name": "stdout",
     "output_type": "stream",
     "text": [
      "Beef-Dairy: 38.32335580034797%\n",
      "Farm-Abattoir: 50.69852908683096%\n",
      "Male-Female: 39.75160456413144%\n",
      "Male-Bull: 19.481886874862507%\n",
      "Female-Bull: 35.533028279295316%\n"
     ]
    }
   ],
   "source": [
    "# Compute KS distances\n",
    "print(f\"Beef-Dairy: {dist_kolmogorov_smirnov_prcnt(beef, dairy)}%\")\n",
    "print(f\"Farm-Abattoir: {dist_kolmogorov_smirnov_prcnt(died_farm, died_abattoir)}%\")\n",
    "print(f\"Male-Female: {dist_kolmogorov_smirnov_prcnt(male, female)}%\")\n",
    "print(f\"Male-Bull: {dist_kolmogorov_smirnov_prcnt(male, bull)}%\")\n",
    "print(f\"Female-Bull: {dist_kolmogorov_smirnov_prcnt(female, bull)}%\")"
   ]
  },
  {
   "cell_type": "code",
   "execution_count": 64,
   "id": "cbb1fa66-ee57-4f5b-ac8b-5a65679f8429",
   "metadata": {},
   "outputs": [
    {
     "name": "stdout",
     "output_type": "stream",
     "text": [
      "Median (beef): 759.0\n",
      "Median (dairy): 1082.0\n"
     ]
    }
   ],
   "source": [
    "# Median life spans\n",
    "med_beef = np.median(beef[\"days_alive\"]) \n",
    "med_dairy = np.median(dairy[\"days_alive\"]) \n",
    "print(f\"Median (beef): {med_beef}\")\n",
    "print(f\"Median (dairy): {med_dairy}\")\n"
   ]
  },
  {
   "cell_type": "code",
   "execution_count": 66,
   "id": "f7963fd1-d4cb-4e1b-94bd-ed84470f558c",
   "metadata": {},
   "outputs": [
    {
     "name": "stdout",
     "output_type": "stream",
     "text": [
      "2193.0, 3137.0\n"
     ]
    }
   ],
   "source": [
    "# 95% quantiles\n",
    "q95_beef = np.quantile(beef[\"days_alive\"], 0.95) \n",
    "q95_dairy = np.quantile(dairy[\"days_alive\"], 0.95) \n",
    "print(f\"95% quantiles: beef = {q95_beef}, dairy = {q95_dairy}\")"
   ]
  },
  {
   "cell_type": "code",
   "execution_count": 74,
   "id": "e62b08f8-be7d-4873-83d6-e4d1929e3a88",
   "metadata": {},
   "outputs": [
    {
     "name": "stdout",
     "output_type": "stream",
     "text": [
      "64.65165136640722% of dairy animals are female\n"
     ]
    }
   ],
   "source": [
    "# What percentage of dairy animals are female?\n",
    "num_dairy = dairy.shape[0]\n",
    "num_dairy_fem = dairy[dairy[\"Sex\"]==\"F\"].shape[0]\n",
    "print(f\"{100*num_dairy_fem / num_dairy}% of dairy animals are female\")"
   ]
  }
 ],
 "metadata": {
  "kernelspec": {
   "display_name": "Python 3 (ipykernel)",
   "language": "python",
   "name": "python3"
  },
  "language_info": {
   "codemirror_mode": {
    "name": "ipython",
    "version": 3
   },
   "file_extension": ".py",
   "mimetype": "text/x-python",
   "name": "python",
   "nbconvert_exporter": "python",
   "pygments_lexer": "ipython3",
   "version": "3.11.9"
  }
 },
 "nbformat": 4,
 "nbformat_minor": 5
}
