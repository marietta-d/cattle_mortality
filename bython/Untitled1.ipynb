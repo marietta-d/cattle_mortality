{
 "cells": [
  {
   "cell_type": "code",
   "execution_count": 2,
   "id": "e5b5551e-40ae-4fd4-9c34-4f35688fd7ce",
   "metadata": {},
   "outputs": [],
   "source": [
    "# Tres importante! Use venv_reliability to run les codes!\n",
    "import numpy as np\n",
    "import pandas as pd\n",
    "import matplotlib.pyplot as plt\n",
    "import scipy.stats as stats\n",
    "from sklearn.mixture import GaussianMixture\n",
    "\n",
    "from reliability.Fitters import *\n",
    "from reliability.Distributions import Weibull_Distribution\n",
    "from reliability.Other_functions import histogram"
   ]
  },
  {
   "cell_type": "code",
   "execution_count": 3,
   "id": "7fc25c49-87f1-44a4-a3ea-6ed173e29a9f",
   "metadata": {},
   "outputs": [],
   "source": [
    "data_fname = \"../common_conditions_breed_data.csv\"\n",
    "\n",
    "data = pd.read_csv(data_fname)"
   ]
  },
  {
   "cell_type": "code",
   "execution_count": 22,
   "id": "7e069e81-68c9-48b8-9c9d-6cfef0b8479a",
   "metadata": {},
   "outputs": [],
   "source": [
    "female_data = data.loc[data[\"Sex\"]==\"F\"][\"days_alive\"].to_numpy()"
   ]
  },
  {
   "cell_type": "code",
   "execution_count": 23,
   "id": "fbb43faf-eca1-4eb6-9982-cbdda54f4bf1",
   "metadata": {},
   "outputs": [
    {
     "data": {
      "text/plain": [
       "(array([ 69483., 201574., 304456.,  71012.,  71520.,  67906.,  59853.,\n",
       "         50313.,  40010.,  31051.]),\n",
       " array([   0. ,  365.2,  730.4, 1095.6, 1460.8, 1826. , 2191.2, 2556.4,\n",
       "        2921.6, 3286.8, 3652. ]),\n",
       " <BarContainer object of 10 artists>)"
      ]
     },
     "execution_count": 23,
     "metadata": {},
     "output_type": "execute_result"
    },
    {
     "data": {
      "image/png": "[encoded data removed]",
      "text/plain": [
       "<Figure size 640x480 with 1 Axes>"
      ]
     },
     "metadata": {},
     "output_type": "display_data"
    }
   ],
   "source": [
    "plt.hist(female_data)"
   ]
  },
  {
   "cell_type": "code",
   "execution_count": 24,
   "id": "a939d9ea-7a5e-42ea-bb76-c7fb0b2136e2",
   "metadata": {},
   "outputs": [
    {
     "data": {
      "text/plain": [
       "875.7840167656717"
      ]
     },
     "execution_count": 24,
     "metadata": {},
     "output_type": "execute_result"
    }
   ],
   "source": [
    "np.std(female_data)"
   ]
  },
  {
   "cell_type": "code",
   "execution_count": 12,
   "id": "d49c06ab-2765-4fe2-b7ae-edf292d45c6e",
   "metadata": {},
   "outputs": [
    {
     "data": {
      "text/plain": [
       "774"
      ]
     },
     "execution_count": 12,
     "metadata": {},
     "output_type": "execute_result"
    }
   ],
   "source": [
    "female_data = data.loc[data[\"Sex\"]==\"F\"]"
   ]
  },
  {
   "cell_type": "code",
   "execution_count": 43,
   "id": "5f5166d0-f75b-4211-9205-2c2a15328d60",
   "metadata": {},
   "outputs": [],
   "source": [
    "data_F_only = data.loc[data[\"Sex\"] == \"F\"]\n",
    "nF = data_F_only.shape[0]\n",
    "data_M_only = data.loc[data[\"Sex\"] == \"M\"]\n",
    "nM = data_M_only.shape[0]\n",
    "data_Beef_only = data.loc[data[\"prod_type\"] == \"Beef\"]\n",
    "nBeef = data_Beef_only.shape[0]\n",
    "data_Dairy_only = data.loc[data[\"prod_type\"] == \"Dairy\"]\n",
    "nDairy = data_Dairy_only.shape[0]\n",
    "data_B_only = data.loc[data[\"Sex\"] == \"B\"]\n",
    "nB = data_B_only.shape[0]"
   ]
  },
  {
   "cell_type": "code",
   "execution_count": 51,
   "id": "4fd14bd8-38ea-425c-8800-4b75afed3c7c",
   "metadata": {},
   "outputs": [
    {
     "data": {
      "text/plain": [
       "28530"
      ]
     },
     "execution_count": 51,
     "metadata": {},
     "output_type": "execute_result"
    }
   ],
   "source": [
    "data[\"PLEUR..LOCAL\"].sum()\n",
    "data[\"TB\"].sum()"
   ]
  },
  {
   "cell_type": "code",
   "execution_count": 19,
   "id": "fe359bf3-6b3c-4854-91f8-1ab3931b09a7",
   "metadata": {},
   "outputs": [],
   "source": [
    "deseases = ['PLEUR.PNEUMONIA.LOCAL', 'OEDEMA', 'NEPHRITIS', 'NAD', 'CONTAMINATION', 'TB.GENERALISED', 'TB', 'ABSCESS.PYAEMIA', 'FLUKE.DAMAGE', 'HYDRONEPHROSIS',\n",
    "       'PLEUR.PNEUMONIA.GENERAL', 'PETECHAE.HAEMORRHAGES', 'INJECTION.SITES', 'PERITONITIS', 'PLEURISY', 'FACTORY.DAMAGE', 'PERICARDITIS', 'BRUISING', 'SCAR.TISSUE', 'TELANGECTASIS', 'RESIDUES',\n",
    "       'ARTHRITIS', 'FASCIOLIASIS', 'ACTINO']"
   ]
  },
  {
   "cell_type": "code",
   "execution_count": 56,
   "id": "074e5a6f-a8dc-4c1b-897f-c5b36ebe4507",
   "metadata": {},
   "outputs": [
    {
     "data": {
      "text/plain": [
       "1000.7388192245551"
      ]
     },
     "execution_count": 56,
     "metadata": {},
     "output_type": "execute_result"
    }
   ],
   "source": [
    "data[\"days_alive\"].mean()"
   ]
  },
  {
   "cell_type": "code",
   "execution_count": 55,
   "id": "f277fea8-eb8e-47bb-8515-d7e0b4bfed4f",
   "metadata": {},
   "outputs": [
    {
     "name": "stdout",
     "output_type": "stream",
     "text": [
      "PLEUR.PNEUMONIA.LOCAL N = 15431 (0.84%)\n",
      "OEDEMA N = 3729 (0.20%)\n",
      "NEPHRITIS N = 6129 (0.33%)\n",
      "NAD N = 13287 (0.73%)\n",
      "CONTAMINATION N = 82797 (4.52%)\n",
      "TB.GENERALISED N = 3566 (0.19%)\n",
      "TB N = 28530 (1.56%)\n",
      "ABSCESS.PYAEMIA N = 35622 (1.94%)\n",
      "FLUKE.DAMAGE N = 100398 (5.48%)\n",
      "HYDRONEPHROSIS N = 3806 (0.21%)\n",
      "PLEUR.PNEUMONIA.GENERAL N = 8078 (0.44%)\n",
      "PETECHAE.HAEMORRHAGES N = 3287 (0.18%)\n",
      "INJECTION.SITES N = 2220 (0.12%)\n",
      "PERITONITIS N = 15763 (0.86%)\n",
      "PLEURISY N = 4476 (0.24%)\n",
      "FACTORY.DAMAGE N = 10352 (0.56%)\n",
      "PERICARDITIS N = 7118 (0.39%)\n",
      "BRUISING N = 13298 (0.73%)\n",
      "SCAR.TISSUE N = 2568 (0.14%)\n",
      "TELANGECTASIS N = 6257 (0.34%)\n",
      "RESIDUES N = 5036 (0.27%)\n",
      "ARTHRITIS N = 1952 (0.11%)\n",
      "FASCIOLIASIS N = 40958 (2.23%)\n",
      "ACTINO N = 1928 (0.11%)\n"
     ]
    }
   ],
   "source": [
    "N = data.shape[0]\n",
    "for d in deseases:\n",
    "    asd = data[d].sum()\n",
    "    print(\"{} N = {} ({:2.2f}%)\".format(d, asd, 100*asd/N))"
   ]
  },
  {
   "cell_type": "code",
   "execution_count": 44,
   "id": "4ae4d4de-407b-40cf-be5c-916ca50bbd37",
   "metadata": {},
   "outputs": [
    {
     "name": "stdout",
     "output_type": "stream",
     "text": [
      "PLEUR.PNEUMONIA.LOCAL -- 1.26% Bulls \n",
      "OEDEMA -- 0.13% Bulls \n",
      "NEPHRITIS -- 0.39% Bulls \n",
      "NAD -- 0.84% Bulls \n",
      "CONTAMINATION -- 7.15% Bulls \n",
      "TB.GENERALISED -- 0.22% Bulls \n",
      "TB -- 1.52% Bulls \n",
      "ABSCESS.PYAEMIA -- 2.19% Bulls \n",
      "FLUKE.DAMAGE -- 4.87% Bulls \n",
      "HYDRONEPHROSIS -- 0.15% Bulls \n",
      "PLEUR.PNEUMONIA.GENERAL -- 0.53% Bulls \n",
      "PETECHAE.HAEMORRHAGES -- 0.20% Bulls \n",
      "INJECTION.SITES -- 0.10% Bulls \n",
      "PERITONITIS -- 0.68% Bulls \n",
      "PLEURISY -- 0.28% Bulls \n",
      "FACTORY.DAMAGE -- 0.91% Bulls \n",
      "PERICARDITIS -- 0.39% Bulls \n",
      "BRUISING -- 0.62% Bulls \n",
      "SCAR.TISSUE -- 0.17% Bulls \n",
      "TELANGECTASIS -- 0.34% Bulls \n",
      "RESIDUES -- 0.32% Bulls \n",
      "ARTHRITIS -- 0.27% Bulls \n",
      "FASCIOLIASIS -- 1.73% Bulls \n",
      "ACTINO -- 0.14% Bulls \n"
     ]
    }
   ],
   "source": [
    "more_fem = 0\n",
    "for d in deseases:\n",
    "    pF = 100*data_F_only[d].sum()/nF\n",
    "    pM = 100*data_M_only[d].sum()/nM\n",
    "    pBeef = 100*data_Beef_only[d].sum()/nBeef\n",
    "    pDairy = 100*data_Dairy_only[d].sum()/nDairy\n",
    "    pB = 100*data_B_only[d].sum()/nB\n",
    "    # more_fem += (pF > pM)\n",
    "    # if pF > pM:\n",
    "    #     print(f\"FEMALE mainly {d}\")\n",
    "    # if pF <= pM:\n",
    "    #     print(f\"MALE mainly {d}\")\n",
    "    print(\"{} -- {:2.2f}% Bulls \".format(d, pB))\n",
    "\n",
    "\n",
    "\n",
    "# print(more_fem)\n"
   ]
  }
 ],
 "metadata": {
  "kernelspec": {
   "display_name": "Python 3 (ipykernel)",
   "language": "python",
   "name": "python3"
  },
  "language_info": {
   "codemirror_mode": {
    "name": "ipython",
    "version": 3
   },
   "file_extension": ".py",
   "mimetype": "text/x-python",
   "name": "python",
   "nbconvert_exporter": "python",
   "pygments_lexer": "ipython3",
   "version": "3.11.9"
  }
 },
 "nbformat": 4,
 "nbformat_minor": 5
}
